{
 "cells": [
  {
   "cell_type": "code",
   "execution_count": null,
   "metadata": {},
   "outputs": [],
   "source": [
    "import flask\n",
    "import nltk\n",
    "from vaderSentiment.vaderSentiment import SentimentIntensityAnalyzer \n",
    "from nltk.tokenize import sent_tokenize\n",
    "from flask import request\n",
    "app = flask.Flask(__name__)\n",
    "app.config[\"DEBUG\"] = False\n",
    "\n",
    "def sentiment_scores(sentence): \n",
    "    sid_obj = SentimentIntensityAnalyzer() \n",
    "    sentiment_dict = sid_obj.polarity_scores(sentence) \n",
    "    return sentiment_dict\n",
    "@app.route('/', methods=['GET'])\n",
    "def sentiments():\n",
    "    text_2000= request.args.get(\"utext\")\n",
    "    text = text_2000\n",
    "    textl = sent_tokenize(text)\n",
    "    eachInASeparateLine = \"\\n\".join(sent_tokenize(text))\n",
    "    res = []\n",
    "    res.append({\"full_text\":textl})\n",
    "    for t in textl:\n",
    "        res.append(sentiment_scores(t))\n",
    "    return str(res)\n",
    "if __name__ == \"__main__\":\n",
    "    app.run(host=\"127.0.0.1\", port=4800)"
   ]
  }
 ],
 "metadata": {
  "kernelspec": {
   "display_name": "Python 3",
   "language": "python",
   "name": "python3"
  },
  "language_info": {
   "codemirror_mode": {
    "name": "ipython",
    "version": 3
   },
   "file_extension": ".py",
   "mimetype": "text/x-python",
   "name": "python",
   "nbconvert_exporter": "python",
   "pygments_lexer": "ipython3",
   "version": "3.8.5"
  }
 },
 "nbformat": 4,
 "nbformat_minor": 4
}
